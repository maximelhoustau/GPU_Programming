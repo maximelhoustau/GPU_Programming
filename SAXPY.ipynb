{
  "nbformat": 4,
  "nbformat_minor": 0,
  "metadata": {
    "colab": {
      "name": "SAXPY.ipynb",
      "provenance": [],
      "collapsed_sections": []
    },
    "kernelspec": {
      "name": "python3",
      "display_name": "Python 3"
    },
    "accelerator": "GPU"
  },
  "cells": [
    {
      "cell_type": "code",
      "metadata": {
        "id": "cnidKocsE22w",
        "colab_type": "code",
        "outputId": "941b0df1-eab0-49b2-8681-00aa33c6ae79",
        "colab": {
          "base_uri": "https://localhost:8080/",
          "height": 207
        }
      },
      "source": [
        "! pip install git+git://github.com/frehseg/nvcc4jupyter.git"
      ],
      "execution_count": 0,
      "outputs": [
        {
          "output_type": "stream",
          "text": [
            "Collecting git+git://github.com/frehseg/nvcc4jupyter.git\n",
            "  Cloning git://github.com/frehseg/nvcc4jupyter.git to /tmp/pip-req-build-wf6roouo\n",
            "  Running command git clone -q git://github.com/frehseg/nvcc4jupyter.git /tmp/pip-req-build-wf6roouo\n",
            "Building wheels for collected packages: NVCCPlugin\n",
            "  Building wheel for NVCCPlugin (setup.py) ... \u001b[?25l\u001b[?25hdone\n",
            "  Created wheel for NVCCPlugin: filename=NVCCPlugin-0.0.1-cp36-none-any.whl size=2095 sha256=f44e00a699d1f7070086a06ab25cb804d0ef77968a3b09d4e4cf0b56afe4e1cd\n",
            "  Stored in directory: /tmp/pip-ephem-wheel-cache-4zi0a70x/wheels/a4/a5/24/17a2b61f9a725a10155cc6fca753aae28436921df21fa16114\n",
            "Successfully built NVCCPlugin\n",
            "Installing collected packages: NVCCPlugin\n",
            "Successfully installed NVCCPlugin-0.0.1\n"
          ],
          "name": "stdout"
        }
      ]
    },
    {
      "cell_type": "code",
      "metadata": {
        "id": "XvvCJHsfFDDx",
        "colab_type": "code",
        "colab": {}
      },
      "source": [
        "%load_ext nvcc_plugin"
      ],
      "execution_count": 0,
      "outputs": []
    },
    {
      "cell_type": "code",
      "metadata": {
        "id": "x1CXQEp-FjsX",
        "colab_type": "code",
        "outputId": "25f700eb-6d6c-4e66-ddf0-1215b301f1c4",
        "colab": {
          "base_uri": "https://localhost:8080/",
          "height": 357
        }
      },
      "source": [
        "%%cu\n",
        "/*\n",
        " * Application saxpy avec GPU \n",
        " * y = A.x +  B\n",
        " */\n",
        "\n",
        "#include <stdlib.h>\n",
        "#include <stdio.h>\n",
        "#include <cuda.h>\n",
        "\n",
        "////////////////////////////////////////////////////////////////\n",
        "//     Initialisation des vecteurs     \n",
        "////////////////////////////////////////////////////////////////\n",
        "void init_tab(float *tab, int len, float val) {\n",
        "    for (int k=0; k<len; k++)   \n",
        "      tab[k]= val;\n",
        "}\n",
        "\n",
        "void affiche_tab(char *chaine, float *tab, int len){\n",
        "   int k;\n",
        "   printf(\"\\nLes 10 premiers de %s: \\n\",chaine);\n",
        "   for (k=0; k<10; k++) \n",
        "      printf(\"%.2f \",tab[k]);\n",
        "   printf(\"\\nLes 10 derniers: \\n\");\n",
        "   for (k=len-10; k<len; k++) \n",
        "      printf(\"%.2f \",tab[k]);\n",
        "   printf(\"\\n\");\n",
        "}\n",
        "\n",
        "__global__ void saxpy(float *tabX, float *tabY, int len, float a){\n",
        "   int idx = blockIdx.x*blockDim.x + threadIdx.x;\n",
        "   if (idx < len){\n",
        "       tabY[idx] = a*tabX[idx] + tabY[idx];\n",
        "   }\n",
        "}\n",
        "\n",
        "int main( int argc, char** argv){ \n",
        "    float *tabX_d, *tabX_h;\n",
        "    float *tabY_d, * tabY_h;\n",
        "    int len = 100;\n",
        "    int a = 2;\n",
        "\n",
        "     /** Initialisation de  nbthreadbyblock et nbblockbygrid  **/\n",
        "    int nbthreadbyblock = 1024;\n",
        "    int nbblockbygrid = ceil(len/(float) nbthreadbyblock);\n",
        "\n",
        "    printf(\"SAXPY - tableau de %d éléments \\n\", len);\n",
        "\n",
        "    /** Allocation memoire sur le host(CPU) **/\n",
        "    tabX_h=(float *) malloc(sizeof(float) * len);\n",
        "    init_tab(tabX_h, len , 5.);\n",
        "    //TODO - allocation de tabY_h\n",
        "    tabY_h=(float *) malloc(sizeof(float) * len);\n",
        "    init_tab(tabY_h, len , 5.);\n",
        "\n",
        "\n",
        "    /** Affichage initial **/\n",
        "    printf(\"Affichage initial\\n\");\n",
        "    affiche_tab(\"tabY_h\",tabY_h, len);\n",
        "    affiche_tab(\"tabX_h\",tabX_h, len);\n",
        "\n",
        "\n",
        "    /** Allocation memoire sur le device(GPU) **/\n",
        "    cudaMalloc((void**) &tabX_d, sizeof(float) * len);\n",
        "    // TODO - allocation de tabY_d\n",
        "    cudaMalloc((void**) &tabY_d, sizeof(float) * len);\n",
        "\n",
        "    /** Transfert mémoire du host vers le device **/\n",
        "    cudaMemcpy(tabX_d, tabX_h, len*sizeof(float), cudaMemcpyHostToDevice) ;\n",
        "    cudaMemcpy(tabY_d, tabY_h, len*sizeof(float), cudaMemcpyHostToDevice) ;\n",
        "\n",
        "    /** Lancement du kernel **/\n",
        "    saxpy<<<nbblockbygrid, nbthreadbyblock>>>(tabX_d, tabY_d, len, a);\n",
        "\n",
        "    /** Transfert mémoire du device vers le host **/\n",
        "    cudaMemcpy(tabX_h, tabX_d, len*sizeof(float), cudaMemcpyDeviceToHost) ;        cudaMemcpy(tabX_h, tabX_d, len*sizeof(float), cudaMemcpyDeviceToHost) ;\n",
        "    cudaMemcpy(tabY_h, tabY_d, len*sizeof(float), cudaMemcpyDeviceToHost) ;\n",
        "\n",
        "    /** Affichage du resultat **/\n",
        "    printf(\"Affichage du résultat\\n\");\n",
        "    affiche_tab(\"tabY_h\", tabY_h, len);\n",
        "\n",
        "    /** Libération de la mémoire **/\n",
        "    cudaFree(tabX_d); cudaFree(tabY_d);\n",
        "    free(tabX_h); free(tabY_h);  \n",
        "\n",
        "    printf(\"Fin du programme\\n\");\n",
        "    return EXIT_SUCCESS;\n",
        "}"
      ],
      "execution_count": 0,
      "outputs": [
        {
          "output_type": "stream",
          "text": [
            "SAXPY - tableau de 100 éléments \n",
            "Affichage initial\n",
            "\n",
            "Les 10 premiers de tabY_h: \n",
            "5.00 5.00 5.00 5.00 5.00 5.00 5.00 5.00 5.00 5.00 \n",
            "Les 10 derniers: \n",
            "5.00 5.00 5.00 5.00 5.00 5.00 5.00 5.00 5.00 5.00 \n",
            "\n",
            "Les 10 premiers de tabX_h: \n",
            "5.00 5.00 5.00 5.00 5.00 5.00 5.00 5.00 5.00 5.00 \n",
            "Les 10 derniers: \n",
            "5.00 5.00 5.00 5.00 5.00 5.00 5.00 5.00 5.00 5.00 \n",
            "Affichage du résultat\n",
            "\n",
            "Les 10 premiers de tabY_h: \n",
            "15.00 15.00 15.00 15.00 15.00 15.00 15.00 15.00 15.00 15.00 \n",
            "Les 10 derniers: \n",
            "15.00 15.00 15.00 15.00 15.00 15.00 15.00 15.00 15.00 15.00 \n",
            "Fin du programme\n",
            "\n"
          ],
          "name": "stdout"
        }
      ]
    }
  ]
}